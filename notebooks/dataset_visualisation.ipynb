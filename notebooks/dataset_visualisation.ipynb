{
 "cells": [
  {
   "cell_type": "code",
   "execution_count": 55,
   "id": "0931d9fe",
   "metadata": {},
   "outputs": [],
   "source": [
    "import pandas as pd\n",
    "from matplotlib import cm\n",
    "import imgkit\n",
    "import dataframe_image as dfi\n"
   ]
  },
  {
   "cell_type": "code",
   "execution_count": 3,
   "id": "7658a42b",
   "metadata": {},
   "outputs": [],
   "source": [
    "team = '01_new_eden'\n",
    "# team = '02_edens_gate'\n",
    "player_path = f'../data/{team}/01_player_performance/players.csv'\n",
    "team_path = f'../data/{team}/02_team_performance/teams.csv'\n",
    "players = pd.read_csv(player_path, index_col=0)\n",
    "teams = pd.read_csv(team_path, index_col=0)"
   ]
  },
  {
   "cell_type": "code",
   "execution_count": 32,
   "id": "50bac042",
   "metadata": {},
   "outputs": [
    {
     "data": {
      "text/html": [
       "<div>\n",
       "<style scoped>\n",
       "    .dataframe tbody tr th:only-of-type {\n",
       "        vertical-align: middle;\n",
       "    }\n",
       "\n",
       "    .dataframe tbody tr th {\n",
       "        vertical-align: top;\n",
       "    }\n",
       "\n",
       "    .dataframe thead th {\n",
       "        text-align: right;\n",
       "    }\n",
       "</style>\n",
       "<table border=\"1\" class=\"dataframe\">\n",
       "  <thead>\n",
       "    <tr style=\"text-align: right;\">\n",
       "      <th></th>\n",
       "      <th>current_team</th>\n",
       "      <th>week1</th>\n",
       "      <th>sum</th>\n",
       "      <th>ave</th>\n",
       "      <th>win_rate</th>\n",
       "      <th>team_coordination_rate</th>\n",
       "      <th>days_not_played</th>\n",
       "    </tr>\n",
       "    <tr>\n",
       "      <th>player</th>\n",
       "      <th></th>\n",
       "      <th></th>\n",
       "      <th></th>\n",
       "      <th></th>\n",
       "      <th></th>\n",
       "      <th></th>\n",
       "      <th></th>\n",
       "    </tr>\n",
       "  </thead>\n",
       "  <tbody>\n",
       "    <tr>\n",
       "      <th>Charlito</th>\n",
       "      <td>10</td>\n",
       "      <td>63</td>\n",
       "      <td>63.0</td>\n",
       "      <td>63.0</td>\n",
       "      <td>7.0</td>\n",
       "      <td>3.0</td>\n",
       "      <td>0</td>\n",
       "    </tr>\n",
       "    <tr>\n",
       "      <th>Dazzed</th>\n",
       "      <td>10</td>\n",
       "      <td>63</td>\n",
       "      <td>63.0</td>\n",
       "      <td>63.0</td>\n",
       "      <td>7.0</td>\n",
       "      <td>3.0</td>\n",
       "      <td>0</td>\n",
       "    </tr>\n",
       "    <tr>\n",
       "      <th>Ashnoy</th>\n",
       "      <td>10</td>\n",
       "      <td>63</td>\n",
       "      <td>63.0</td>\n",
       "      <td>63.0</td>\n",
       "      <td>7.0</td>\n",
       "      <td>3.0</td>\n",
       "      <td>0</td>\n",
       "    </tr>\n",
       "  </tbody>\n",
       "</table>\n",
       "</div>"
      ],
      "text/plain": [
       "          current_team  week1   sum   ave  win_rate  team_coordination_rate  \\\n",
       "player                                                                        \n",
       "Charlito            10     63  63.0  63.0       7.0                     3.0   \n",
       "Dazzed              10     63  63.0  63.0       7.0                     3.0   \n",
       "Ashnoy              10     63  63.0  63.0       7.0                     3.0   \n",
       "\n",
       "          days_not_played  \n",
       "player                     \n",
       "Charlito                0  \n",
       "Dazzed                  0  \n",
       "Ashnoy                  0  "
      ]
     },
     "execution_count": 32,
     "metadata": {},
     "output_type": "execute_result"
    }
   ],
   "source": [
    "cols = ['week1', 'sum', 'ave', 'win_rate', 'team_coordination_rate']\n",
    "cmap = cm.get_cmap('RdYlGn') \n"
   ]
  },
  {
   "cell_type": "code",
   "execution_count": 62,
   "id": "f61d150b",
   "metadata": {},
   "outputs": [
    {
     "data": {
      "text/html": [
       "<div>\n",
       "<style scoped>\n",
       "    .dataframe tbody tr th:only-of-type {\n",
       "        vertical-align: middle;\n",
       "    }\n",
       "\n",
       "    .dataframe tbody tr th {\n",
       "        vertical-align: top;\n",
       "    }\n",
       "\n",
       "    .dataframe thead th {\n",
       "        text-align: right;\n",
       "    }\n",
       "</style>\n",
       "<table border=\"1\" class=\"dataframe\">\n",
       "  <thead>\n",
       "    <tr style=\"text-align: right;\">\n",
       "      <th></th>\n",
       "      <th>week1</th>\n",
       "    </tr>\n",
       "    <tr>\n",
       "      <th>team</th>\n",
       "      <th></th>\n",
       "    </tr>\n",
       "  </thead>\n",
       "  <tbody>\n",
       "    <tr>\n",
       "      <th>1</th>\n",
       "      <td>155</td>\n",
       "    </tr>\n",
       "    <tr>\n",
       "      <th>2</th>\n",
       "      <td>116</td>\n",
       "    </tr>\n",
       "    <tr>\n",
       "      <th>3</th>\n",
       "      <td>177</td>\n",
       "    </tr>\n",
       "    <tr>\n",
       "      <th>4</th>\n",
       "      <td>165</td>\n",
       "    </tr>\n",
       "    <tr>\n",
       "      <th>5</th>\n",
       "      <td>189</td>\n",
       "    </tr>\n",
       "    <tr>\n",
       "      <th>6</th>\n",
       "      <td>177</td>\n",
       "    </tr>\n",
       "    <tr>\n",
       "      <th>7</th>\n",
       "      <td>104</td>\n",
       "    </tr>\n",
       "    <tr>\n",
       "      <th>8</th>\n",
       "      <td>141</td>\n",
       "    </tr>\n",
       "    <tr>\n",
       "      <th>9</th>\n",
       "      <td>111</td>\n",
       "    </tr>\n",
       "    <tr>\n",
       "      <th>10</th>\n",
       "      <td>189</td>\n",
       "    </tr>\n",
       "  </tbody>\n",
       "</table>\n",
       "</div>"
      ],
      "text/plain": [
       "      week1\n",
       "team       \n",
       "1       155\n",
       "2       116\n",
       "3       177\n",
       "4       165\n",
       "5       189\n",
       "6       177\n",
       "7       104\n",
       "8       141\n",
       "9       111\n",
       "10      189"
      ]
     },
     "execution_count": 62,
     "metadata": {},
     "output_type": "execute_result"
    }
   ],
   "source": [
    "red_greed = cm.get_cmap('RdYlGn')\n",
    "yellow_green = cm.get_cmap('summer_r')\n",
    "yellow_green_re = cm.get_cmap('summer')\n",
    "# players.style\\\n",
    "#     .bar(subset=[\"week1\",], color='lightgreen', vmin=0, vmax=63)\\\n",
    "#     .background_gradient(axis=0,vmin=0, subset=['sum', 'ave'],cmap=red_greed)\\\n",
    "#     .background_gradient(axis=0,vmin=0, subset=['win_rate', 'team_coordination_rate'],cmap=yellow_green)\\\n",
    "#     .background_gradient(axis=0,vmin=0, subset=['days_not_played' ],cmap=yellow_green_re)\n",
    "\n",
    "teams"
   ]
  },
  {
   "cell_type": "code",
   "execution_count": 60,
   "id": "eab95eaa",
   "metadata": {},
   "outputs": [],
   "source": [
    "styled_players = players.style\\\n",
    "    .bar(subset=[\"week1\",], color='lightgreen', vmin=0, vmax=63)\\\n",
    "    .background_gradient(axis=0,vmin=0, subset=['sum', 'ave'],cmap=red_greed)\\\n",
    "    .background_gradient(axis=0,vmin=0, subset=['win_rate', 'team_coordination_rate'],cmap=yellow_green)\\\n",
    "    .background_gradient(axis=0,vmin=0, subset=['days_not_played' ],cmap=yellow_green_re)"
   ]
  },
  {
   "cell_type": "code",
   "execution_count": 61,
   "id": "94520a22",
   "metadata": {},
   "outputs": [
    {
     "name": "stderr",
     "output_type": "stream",
     "text": [
      "[0412/120224.157831:INFO:headless_shell.cc(659)] Written to file /var/folders/pf/ky_x0p590xl3cfbbkfv1nsb80000gn/T/tmp5el255og/temp.png.\n",
      "[0412/120225.910916:INFO:headless_shell.cc(659)] Written to file /var/folders/pf/ky_x0p590xl3cfbbkfv1nsb80000gn/T/tmpmb1dlbds/temp.png.\n"
     ]
    }
   ],
   "source": [
    "dfi.export(styled_players, '../plots/players.png')"
   ]
  }
 ],
 "metadata": {
  "kernelspec": {
   "display_name": "Python 3 (ipykernel)",
   "language": "python",
   "name": "python3"
  },
  "language_info": {
   "codemirror_mode": {
    "name": "ipython",
    "version": 3
   },
   "file_extension": ".py",
   "mimetype": "text/x-python",
   "name": "python",
   "nbconvert_exporter": "python",
   "pygments_lexer": "ipython3",
   "version": "3.9.7"
  }
 },
 "nbformat": 4,
 "nbformat_minor": 5
}
